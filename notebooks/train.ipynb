{
 "cells": [
  {
   "cell_type": "code",
   "execution_count": null,
   "id": "088e3866",
   "metadata": {},
   "outputs": [],
   "source": [
    "import sys\n",
    "import torch\n",
    "from collections import Counter\n",
    "sys.path.append(\"../src/models\")\n",
    "import train"
   ]
  },
  {
   "cell_type": "code",
   "execution_count": 30,
   "id": "b03e8de0",
   "metadata": {},
   "outputs": [
    {
     "name": "stdout",
     "output_type": "stream",
     "text": [
      "Using mps device\n",
      "Epoch 1/10, Loss: 6.3872, Val Acc: 0.2789\n",
      "Epoch 2/10, Loss: 1.8214, Val Acc: 0.2789\n",
      "Epoch 3/10, Loss: 1.8230, Val Acc: 0.2631\n",
      "Epoch 4/10, Loss: 1.8266, Val Acc: 0.2789\n",
      "Epoch 5/10, Loss: 1.8229, Val Acc: 0.2631\n",
      "Epoch 6/10, Loss: 1.8187, Val Acc: 0.2789\n",
      "Epoch 7/10, Loss: 1.8208, Val Acc: 0.2789\n",
      "Epoch 8/10, Loss: 1.8216, Val Acc: 0.2789\n",
      "Epoch 9/10, Loss: 1.8199, Val Acc: 0.2789\n",
      "Epoch 10/10, Loss: 1.8200, Val Acc: 0.2789\n"
     ]
    }
   ],
   "source": [
    "# Load data\n",
    "train_loader, val_loader = train.get_dataloaders(\"../data/processed/dataset.pt\", \n",
    "                                                 batch_size=32)\n",
    "\n",
    "# Create model\n",
    "num_classes = len(Counter(val_loader.dataset.tensors[1].tolist())) \n",
    "model = train.SimpleCNN(num_classes=num_classes)\n",
    "\n",
    "device = torch.accelerator.current_accelerator().type if torch.accelerator.is_available() else \"cpu\"\n",
    "print(f\"Using {device} device\")\n",
    "\n",
    "# # Train model\n",
    "train.train_model(model, train_loader, val_loader, \n",
    "                  epochs=10, lr=0.01, \n",
    "                  device=device)"
   ]
  },
  {
   "cell_type": "code",
   "execution_count": 27,
   "id": "c7ab2a32",
   "metadata": {},
   "outputs": [
    {
     "data": {
      "text/plain": [
       "10"
      ]
     },
     "execution_count": 27,
     "metadata": {},
     "output_type": "execute_result"
    }
   ],
   "source": [
    "len(Counter(val_loader.dataset.tensors[1].tolist()))"
   ]
  }
 ],
 "metadata": {
  "kernelspec": {
   "display_name": "base",
   "language": "python",
   "name": "python3"
  },
  "language_info": {
   "codemirror_mode": {
    "name": "ipython",
    "version": 3
   },
   "file_extension": ".py",
   "mimetype": "text/x-python",
   "name": "python",
   "nbconvert_exporter": "python",
   "pygments_lexer": "ipython3",
   "version": "3.10.18"
  }
 },
 "nbformat": 4,
 "nbformat_minor": 5
}
