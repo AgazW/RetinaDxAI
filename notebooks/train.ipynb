{
 "cells": [
  {
   "cell_type": "code",
   "execution_count": 1,
   "id": "088e3866",
   "metadata": {},
   "outputs": [],
   "source": [
    "import sys\n",
    "import torch\n",
    "from collections import Counter\n",
    "sys.path.append(\"../src/models\")\n",
    "import train"
   ]
  },
  {
   "cell_type": "code",
   "execution_count": null,
   "id": "b03e8de0",
   "metadata": {},
   "outputs": [
    {
     "name": "stderr",
     "output_type": "stream",
     "text": [
      "/opt/homebrew/Caskroom/miniforge/base/lib/python3.10/site-packages/torchvision/models/_utils.py:208: UserWarning: The parameter 'pretrained' is deprecated since 0.13 and may be removed in the future, please use 'weights' instead.\n",
      "  warnings.warn(\n",
      "/opt/homebrew/Caskroom/miniforge/base/lib/python3.10/site-packages/torchvision/models/_utils.py:223: UserWarning: Arguments other than a weight enum or `None` for 'weights' are deprecated since 0.13 and may be removed in the future. The current behavior is equivalent to passing `weights=ResNet18_Weights.IMAGENET1K_V1`. You can also use `weights=ResNet18_Weights.DEFAULT` to get the most up-to-date weights.\n",
      "  warnings.warn(msg)\n"
     ]
    },
    {
     "name": "stdout",
     "output_type": "stream",
     "text": [
      "Using mps device\n"
     ]
    }
   ],
   "source": [
    "# Load data\n",
    "train_loader, val_loader = train.get_dataloaders(\"../data/processed/dataset.pt\", \n",
    "                                                 batch_size=32)\n",
    "\n",
    "# Create model\n",
    "num_classes = len(Counter(val_loader.dataset.tensors[1].tolist())) \n",
    "model = train.SimpleCNN(num_classes=num_classes)\n",
    "\n",
    "# Create a ResNet18 model (pretrained or not)\n",
    "resnet_model = train.get_resnet18(num_classes=num_classes, pretrained=True)  # or pretrained=False\n",
    "\n",
    "\n",
    "device = torch.accelerator.current_accelerator().type if torch.accelerator.is_available() else \"cpu\"\n",
    "print(f\"Using {device} device\")\n",
    "\n",
    "# Train both models in a loop\n",
    "for m in [model, resnet_model]:\n",
    "    train.train_model(m, train_loader, val_loader, \n",
    "                      epochs=5, lr=0.01, \n",
    "                      device=device)"
   ]
  },
  {
   "cell_type": "code",
   "execution_count": 34,
   "id": "c7ab2a32",
   "metadata": {},
   "outputs": [
    {
     "ename": "AttributeError",
     "evalue": "module 'train' has no attribute 'get_resnet18'",
     "output_type": "error",
     "traceback": [
      "\u001b[0;31m---------------------------------------------------------------------------\u001b[0m",
      "\u001b[0;31mAttributeError\u001b[0m                            Traceback (most recent call last)",
      "Cell \u001b[0;32mIn[34], line 2\u001b[0m\n\u001b[1;32m      1\u001b[0m \u001b[38;5;66;03m# Create a ResNet18 model (pretrained or not)\u001b[39;00m\n\u001b[0;32m----> 2\u001b[0m model \u001b[38;5;241m=\u001b[39m \u001b[43mtrain\u001b[49m\u001b[38;5;241;43m.\u001b[39;49m\u001b[43mget_resnet18\u001b[49m(num_classes\u001b[38;5;241m=\u001b[39mnum_classes, pretrained\u001b[38;5;241m=\u001b[39m\u001b[38;5;28;01mTrue\u001b[39;00m)  \u001b[38;5;66;03m# or pretrained=False\u001b[39;00m\n",
      "\u001b[0;31mAttributeError\u001b[0m: module 'train' has no attribute 'get_resnet18'"
     ]
    }
   ],
   "source": [
    "# Create a ResNet18 model (pretrained or not)\n",
    "model = train.get_resnet18(num_classes=num_classes, pretrained=True)  # or pretrained=False\n"
   ]
  }
 ],
 "metadata": {
  "kernelspec": {
   "display_name": "base",
   "language": "python",
   "name": "python3"
  },
  "language_info": {
   "codemirror_mode": {
    "name": "ipython",
    "version": 3
   },
   "file_extension": ".py",
   "mimetype": "text/x-python",
   "name": "python",
   "nbconvert_exporter": "python",
   "pygments_lexer": "ipython3",
   "version": "3.10.18"
  }
 },
 "nbformat": 4,
 "nbformat_minor": 5
}
