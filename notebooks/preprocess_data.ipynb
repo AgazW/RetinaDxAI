{
 "cells": [
  {
   "cell_type": "markdown",
   "id": "0c8f176b",
   "metadata": {},
   "source": [
    "### Notebook to download and preprocess data"
   ]
  },
  {
   "cell_type": "markdown",
   "id": "3c93f269",
   "metadata": {},
   "source": [
    "#### 1. Download data"
   ]
  },
  {
   "cell_type": "code",
   "execution_count": 9,
   "id": "1c54ae09",
   "metadata": {},
   "outputs": [
    {
     "name": "stdout",
     "output_type": "stream",
     "text": [
      "['download_eye_disease_dataset', 'download_kaggle_dataset', 'kagglehub', 'os', 'shutil']\n",
      "Path to dataset files: ../data/external\n"
     ]
    }
   ],
   "source": [
    "import sys\n",
    "import importlib\n",
    "\n",
    "# Ensure the data module path is in sys.path\n",
    "data_module_path = \"../src/data\"\n",
    "if data_module_path not in sys.path:\n",
    "\tsys.path.append(data_module_path)\n",
    "\n",
    "# Import and reload the download_data module\n",
    "download_data = importlib.import_module(\"download_data\")\n",
    "importlib.reload(download_data)\n",
    "\n",
    "# Optionally, list available functions for inspection\n",
    "print([attr for attr in dir(download_data) if not attr.startswith(\"_\")])\n",
    "\n",
    "# Call the function to download the Kaggle dataset\n",
    "if hasattr(download_data, \"download_kaggle_dataset\"):\n",
    "\tdownload_data.download_kaggle_dataset()\n",
    "else:\n",
    "\traise AttributeError(\"download_kaggle_dataset function not found in download_data module.\")"
   ]
  },
  {
   "cell_type": "code",
   "execution_count": null,
   "id": "ce711f00",
   "metadata": {},
   "outputs": [],
   "source": []
  }
 ],
 "metadata": {
  "kernelspec": {
   "display_name": "base",
   "language": "python",
   "name": "python3"
  },
  "language_info": {
   "codemirror_mode": {
    "name": "ipython",
    "version": 3
   },
   "file_extension": ".py",
   "mimetype": "text/x-python",
   "name": "python",
   "nbconvert_exporter": "python",
   "pygments_lexer": "ipython3",
   "version": "3.10.18"
  }
 },
 "nbformat": 4,
 "nbformat_minor": 5
}
