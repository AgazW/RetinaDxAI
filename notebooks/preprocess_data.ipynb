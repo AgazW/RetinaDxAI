{
 "cells": [
  {
   "cell_type": "markdown",
   "id": "0c8f176b",
   "metadata": {},
   "source": [
    "### Notebook to download and preprocess data"
   ]
  },
  {
   "cell_type": "markdown",
   "id": "3c93f269",
   "metadata": {},
   "source": [
    "#### 1. Download data"
   ]
  },
  {
   "cell_type": "code",
   "execution_count": 3,
   "id": "1c54ae09",
   "metadata": {},
   "outputs": [
    {
     "name": "stdout",
     "output_type": "stream",
     "text": [
      "['download_kaggle_dataset', 'kagglehub', 'os', 'shutil']\n",
      "Path to dataset files: ../data/external\n"
     ]
    }
   ],
   "source": [
    "import sys\n",
    "import importlib\n",
    "\n",
    "# Ensure the data module path is in sys.path\n",
    "data_module_path = \"../src\"\n",
    "if data_module_path not in sys.path:\n",
    "\tsys.path.append(data_module_path)\n",
    "\n",
    "# Import and reload the download_data module\n",
    "download_data = importlib.import_module(\"download_data\")\n",
    "importlib.reload(download_data)\n",
    "\n",
    "# Optionally, list available functions for inspection\n",
    "print([attr for attr in dir(download_data) if not attr.startswith(\"_\")])\n",
    "\n",
    "# Call the function to download the Kaggle dataset\n",
    "if hasattr(download_data, \"download_kaggle_dataset\"):\n",
    "\tdownload_data.download_kaggle_dataset()\n",
    "else:\n",
    "\traise AttributeError(\"download_kaggle_dataset function not found in download_data module.\")"
   ]
  },
  {
   "cell_type": "markdown",
   "id": "de68d8eb",
   "metadata": {},
   "source": [
    "#### 2. Prepare data and save for model development"
   ]
  },
  {
   "cell_type": "code",
   "execution_count": null,
   "id": "ce711f00",
   "metadata": {},
   "outputs": [
    {
     "name": "stdout",
     "output_type": "stream",
     "text": [
      "File already exists at ../data/processed/dataset.pt. Skipping save.\n"
     ]
    }
   ],
   "source": [
    "from preprocess import preprocessing\n",
    "import os\n",
    "\n",
    "data_dir = \"../data/external/data/Original_Dataset\"\n",
    "dataloader, classes, class_to_idx = preprocessing.get_image_dataloader(data_dir, batch_size=32)\n",
    "\n",
    "save_path = \"../data/processed/dataset.pt\"\n",
    "if not os.path.exists(save_path):\n",
    "\tpreprocessing.save_entire_dataset(dataloader, save_path)\n",
    "else:\n",
    "\tprint(f\"File already exists at {save_path}. Skipping save.\")"
   ]
  },
  {
   "cell_type": "code",
   "execution_count": null,
   "id": "073df808",
   "metadata": {},
   "outputs": [],
   "source": []
  },
  {
   "cell_type": "code",
   "execution_count": 21,
   "id": "97530e4d",
   "metadata": {},
   "outputs": [
    {
     "data": {
      "text/plain": [
       "['Central Serous Chorioretinopathy',\n",
       " 'Diabetic Retinopathy',\n",
       " 'Disc Edema',\n",
       " 'Glaucoma',\n",
       " 'Healthy',\n",
       " 'Macular Scar',\n",
       " 'Myopia',\n",
       " 'Pterygium',\n",
       " 'Retinal Detachment',\n",
       " 'Retinitis Pigmentosa']"
      ]
     },
     "execution_count": 21,
     "metadata": {},
     "output_type": "execute_result"
    }
   ],
   "source": [
    "# Check how many classes we have\n",
    "classes"
   ]
  },
  {
   "cell_type": "code",
   "execution_count": 22,
   "id": "c75e3bd0",
   "metadata": {},
   "outputs": [
    {
     "data": {
      "text/plain": [
       "{'Central Serous Chorioretinopathy': 0,\n",
       " 'Diabetic Retinopathy': 1,\n",
       " 'Disc Edema': 2,\n",
       " 'Glaucoma': 3,\n",
       " 'Healthy': 4,\n",
       " 'Macular Scar': 5,\n",
       " 'Myopia': 6,\n",
       " 'Pterygium': 7,\n",
       " 'Retinal Detachment': 8,\n",
       " 'Retinitis Pigmentosa': 9}"
      ]
     },
     "execution_count": 22,
     "metadata": {},
     "output_type": "execute_result"
    }
   ],
   "source": [
    "# Check classes and assigned index\n",
    "class_to_idx"
   ]
  },
  {
   "cell_type": "markdown",
   "id": "f2d7ea97",
   "metadata": {},
   "source": [
    "#### 3. Display a few images"
   ]
  },
  {
   "cell_type": "code",
   "execution_count": 1,
   "id": "397c5863",
   "metadata": {},
   "outputs": [
    {
     "ename": "NameError",
     "evalue": "name 'dataloader' is not defined",
     "output_type": "error",
     "traceback": [
      "\u001b[0;31m---------------------------------------------------------------------------\u001b[0m",
      "\u001b[0;31mNameError\u001b[0m                                 Traceback (most recent call last)",
      "Cell \u001b[0;32mIn[1], line 5\u001b[0m\n\u001b[1;32m      2\u001b[0m \u001b[38;5;28;01mimport\u001b[39;00m\u001b[38;5;250m \u001b[39m\u001b[38;5;21;01mnumpy\u001b[39;00m\u001b[38;5;250m \u001b[39m\u001b[38;5;28;01mas\u001b[39;00m\u001b[38;5;250m \u001b[39m\u001b[38;5;21;01mnp\u001b[39;00m\n\u001b[1;32m      4\u001b[0m \u001b[38;5;66;03m# Get a batch from the dataloader\u001b[39;00m\n\u001b[0;32m----> 5\u001b[0m images, targets \u001b[38;5;241m=\u001b[39m \u001b[38;5;28mnext\u001b[39m(\u001b[38;5;28miter\u001b[39m(\u001b[43mdataloader\u001b[49m))\n\u001b[1;32m      7\u001b[0m \u001b[38;5;66;03m# Function to unnormalize and show images\u001b[39;00m\n\u001b[1;32m      8\u001b[0m \u001b[38;5;28;01mdef\u001b[39;00m\u001b[38;5;250m \u001b[39m\u001b[38;5;21mimshow\u001b[39m(img, mean\u001b[38;5;241m=\u001b[39m[\u001b[38;5;241m0.485\u001b[39m, \u001b[38;5;241m0.456\u001b[39m, \u001b[38;5;241m0.406\u001b[39m], \n\u001b[1;32m      9\u001b[0m            std\u001b[38;5;241m=\u001b[39m[\u001b[38;5;241m0.229\u001b[39m, \u001b[38;5;241m0.224\u001b[39m, \u001b[38;5;241m0.225\u001b[39m]):\n",
      "\u001b[0;31mNameError\u001b[0m: name 'dataloader' is not defined"
     ]
    }
   ],
   "source": [
    "import matplotlib.pyplot as plt\n",
    "import numpy as np\n",
    "\n",
    "# Get a batch from the dataloader\n",
    "images, targets = next(iter(dataloader))\n",
    "\n",
    "# Function to unnormalize and show images\n",
    "def imshow(img, mean=[0.485, 0.456, 0.406], \n",
    "           std=[0.229, 0.224, 0.225]):\n",
    "    img = img.numpy().transpose((1, 2, 0))\n",
    "    img = std * img + mean  # unnormalize\n",
    "    img = np.clip(img, 0, 1)\n",
    "    plt.imshow(img)\n",
    "    plt.axis('off')\n",
    "\n",
    "# Show first 10 images in two rows of 5\n",
    "num_images = 10\n",
    "rows, cols = 2, 5\n",
    "plt.figure(figsize=(15, 6))\n",
    "for i in range(num_images):\n",
    "    plt.subplot(rows, cols, i+1)\n",
    "    imshow(images[i])\n",
    "    plt.title(classes[targets[i]])\n",
    "plt.tight_layout()\n",
    "plt.show()\n"
   ]
  }
 ],
 "metadata": {
  "kernelspec": {
   "display_name": "base",
   "language": "python",
   "name": "python3"
  },
  "language_info": {
   "codemirror_mode": {
    "name": "ipython",
    "version": 3
   },
   "file_extension": ".py",
   "mimetype": "text/x-python",
   "name": "python",
   "nbconvert_exporter": "python",
   "pygments_lexer": "ipython3",
   "version": "3.10.18"
  }
 },
 "nbformat": 4,
 "nbformat_minor": 5
}
