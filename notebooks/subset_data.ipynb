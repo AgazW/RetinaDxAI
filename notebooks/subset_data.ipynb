{
 "cells": [
  {
   "cell_type": "markdown",
   "id": "ac275545",
   "metadata": {},
   "source": [
    "# Subset Data Preparation\n",
    "\n",
    "This notebook documents the process of creating a subset of the original dataset for further analysis and experimentation.\n"
   ]
  },
  {
   "cell_type": "code",
   "execution_count": 2,
   "id": "176035ca",
   "metadata": {},
   "outputs": [],
   "source": [
    "import sys\n",
    "\n",
    "# Ensure the data module path is in sys.path\n",
    "data_module_path = \"../src\"\n",
    "if data_module_path not in sys.path:\n",
    "\tsys.path.append(data_module_path)\n",
    "from preprocess import subset_data"
   ]
  },
  {
   "cell_type": "code",
   "execution_count": 3,
   "id": "e9811c63",
   "metadata": {},
   "outputs": [],
   "source": [
    "from preprocess import subset_data\n",
    "subset_data.copy_subset_per_class(\n",
    "    src_dir=\"../data/external/data/Original_Dataset\",\n",
    "    dst_dir=\"../data/external/data/Subset100\",\n",
    "    max_per_class=100\n",
    ")"
   ]
  }
 ],
 "metadata": {
  "kernelspec": {
   "display_name": "base",
   "language": "python",
   "name": "python3"
  },
  "language_info": {
   "codemirror_mode": {
    "name": "ipython",
    "version": 3
   },
   "file_extension": ".py",
   "mimetype": "text/x-python",
   "name": "python",
   "nbconvert_exporter": "python",
   "pygments_lexer": "ipython3",
   "version": "3.10.18"
  }
 },
 "nbformat": 4,
 "nbformat_minor": 5
}
